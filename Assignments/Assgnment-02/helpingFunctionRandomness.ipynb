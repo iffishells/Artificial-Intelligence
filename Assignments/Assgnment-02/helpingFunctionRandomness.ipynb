{
 "cells": [
  {
   "cell_type": "code",
   "execution_count": 7,
   "id": "be762caa",
   "metadata": {},
   "outputs": [],
   "source": [
    "import numpy as np\n",
    "def Create_Papulation_Randomly(gens):\n",
    "    ## take initial gens and create more random papulation\n",
    "    \n",
    "    NumberOFIndex = np.random.randint(0,len(gens))\n",
    "    \n",
    "    for i in range(0,NumberOFIndex):\n",
    "        RandomIndex = np.random.randint(0,NumberOFIndex)\n",
    "        gens[RandomIndex]=1\n",
    "    return gens\n",
    "\n",
    "\n",
    "## fiteness function count the number of 1's in the list\n",
    "def Calcualte_fitness(chromosome):\n",
    "    \n",
    "    NumOfOne = 0\n",
    "    for Num in range(0,len(chromosome)):\n",
    "        if chromosome[Num]==1:\n",
    "            NumOfOne+=1\n",
    "    fitness=NumOfOne\n",
    "    return fitness\n",
    "    "
   ]
  },
  {
   "cell_type": "code",
   "execution_count": 9,
   "id": "725be553",
   "metadata": {},
   "outputs": [
    {
     "data": {
      "text/plain": [
       "8"
      ]
     },
     "execution_count": 9,
     "metadata": {},
     "output_type": "execute_result"
    }
   ],
   "source": [
    "Calcualte_fitness([1,1,1,1,1,1,1,1])"
   ]
  },
  {
   "cell_type": "code",
   "execution_count": 26,
   "id": "cd0b78db",
   "metadata": {},
   "outputs": [
    {
     "name": "stdout",
     "output_type": "stream",
     "text": [
      "[1, 1, 0, 0, 0, 1, 0, 0]\n",
      "[1, 0, 0, 1, 1, 0, 0, 0]\n",
      "[1, 1, 1, 0, 0, 0, 0, 0]\n",
      "[1, 1, 1, 1, 0, 0, 0, 0]\n",
      "[1, 1, 0, 0, 1, 0, 0, 0]\n"
     ]
    }
   ],
   "source": [
    "for j in range(5):\n",
    "    \n",
    "    print(Create_Papulation_Randomly([0,0,0,0,0,0,0,0]))\n"
   ]
  },
  {
   "cell_type": "code",
   "execution_count": null,
   "id": "eb5a4222",
   "metadata": {},
   "outputs": [],
   "source": []
  }
 ],
 "metadata": {
  "kernelspec": {
   "display_name": "Python 3",
   "language": "python",
   "name": "python3"
  },
  "language_info": {
   "codemirror_mode": {
    "name": "ipython",
    "version": 3
   },
   "file_extension": ".py",
   "mimetype": "text/x-python",
   "name": "python",
   "nbconvert_exporter": "python",
   "pygments_lexer": "ipython3",
   "version": "3.8.3"
  }
 },
 "nbformat": 4,
 "nbformat_minor": 5
}
