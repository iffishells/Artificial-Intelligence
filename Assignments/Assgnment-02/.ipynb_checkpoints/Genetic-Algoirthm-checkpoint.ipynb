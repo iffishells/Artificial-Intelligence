{
 "cells": [
  {
   "cell_type": "code",
   "execution_count": 2,
   "id": "6bb4b091",
   "metadata": {},
   "outputs": [],
   "source": [
    "## required lib \n",
    "import pandas as pd\n"
   ]
  },
  {
   "cell_type": "code",
   "execution_count": 3,
   "id": "fdbe5542",
   "metadata": {},
   "outputs": [],
   "source": [
    "## Convert N DIM  X N Dim Array into 1 X N Array Dim"
   ]
  },
  {
   "cell_type": "code",
   "execution_count": 22,
   "id": "1c13571b",
   "metadata": {},
   "outputs": [],
   "source": [
    "def convert_into_1_Dim(array):\n",
    "    chromosome = array.reshape(1,16).copy()\n",
    "    return chromosome\n",
    "    \n",
    "    \n",
    "    \n",
    "## testing\n",
    "# arr = np.zeros((4,4),dtype=int)\n",
    "# print(convert_into_1_Dim(arr))"
   ]
  },
  {
   "cell_type": "code",
   "execution_count": 23,
   "id": "b5a22d71",
   "metadata": {},
   "outputs": [],
   "source": [
    "## initial papulaiton"
   ]
  },
  {
   "cell_type": "code",
   "execution_count": 65,
   "id": "1fad9822",
   "metadata": {},
   "outputs": [],
   "source": [
    "def  generate_papulation(array):\n",
    "    \n",
    "    chromosome = convert_into_1_Dim(array) ## converted into 1 Dim Array\n",
    "    \n",
    "    papulation = [chromosome for i in range(4)] ## 4 papulation initlize \n",
    "    \n",
    "    \n",
    "    \n",
    "    ret_popualtion = []\n",
    "    for i in range(4):\n",
    "\n",
    "        individual_chromosome = papulation[i][0].copy()\n",
    "        \n",
    "        ## generate random index\n",
    "        for j in range(4):\n",
    "            \n",
    "            index = np.random.randint(0,16)\n",
    "            \n",
    "            individual_chromosome[index] = 1\n",
    "            \n",
    "        \n",
    "        ret_popualtion.append(individual_chromosome)  \n",
    "        \n",
    "#         print(ret_popualtion)\n",
    "    return ret_popualtion\n",
    "            \n",
    "    \n",
    "## testing\n",
    "# arr = np.zeros((4,4),dtype=int) \n",
    "# generate_papulation(arr)\n",
    "\n",
    "    \n"
   ]
  },
  {
   "cell_type": "code",
   "execution_count": 90,
   "id": "94e4b924",
   "metadata": {},
   "outputs": [],
   "source": [
    "## calculate fitness of individuals\n",
    "def calcualte_Fitness(individual):\n",
    "    \n",
    "    ## number of 1\n",
    "    print(\"individual : \",individual)\n",
    "    count_1 =0 \n",
    "    for i in range(0,len(individual)):\n",
    "        if individual[i]==1:\n",
    "            count_1 +=1\n",
    "    return count_1\n",
    "\n",
    "# ## testing\n",
    "\n",
    "# arrray = [1,0,1,0,1,1]\n",
    "# calcualte_Fitness(arrray)"
   ]
  },
  {
   "cell_type": "code",
   "execution_count": 91,
   "id": "64457748-42ed-4fcd-8b20-7ec7b79e7823",
   "metadata": {},
   "outputs": [],
   "source": [
    "def calcualte_Fitness_enough(popualtion , threshold=16):\n",
    "    \n",
    "    print(\"popualtion  : ,\",popualtion)\n",
    "    fittest_fitness = max(popualtion ,key=calcualte_Fitness)\n",
    "    \n",
    "    print(fittest_fitness)\n",
    "    if fittest_fitness == threshold:\n",
    "        return True\n",
    "    else:\n",
    "        return False\n",
    "    \n",
    "## testing :\n",
    " \n",
    "    \n",
    "# arr = np.zeros((4,4),dtype=int)\n",
    "# pop = generate_papulation(arr)\n",
    "\n",
    "# calcualte_Fitness_enough(pop)\n",
    "\n",
    "    "
   ]
  },
  {
   "cell_type": "code",
   "execution_count": 106,
   "id": "c11d8e61-8403-4e3f-8135-ccfaa9b99073",
   "metadata": {},
   "outputs": [],
   "source": [
    "def selection(popualtion):\n",
    "    fitness_value = list()\n",
    "    for i in range(0,len(popualtion)):\n",
    "        fitness_value.append(calcualte_Fitness(popualtion[i]))\n",
    "    fitness_sum = sum(fitness_value)\n",
    "    print(\"Sum fitness Value : \", fitness_sum)\n",
    "    selection_prob = [pop[index]/fitness_value print(index , value )for index , value  in enumerate(popualtion)]"
   ]
  },
  {
   "cell_type": "code",
   "execution_count": 107,
   "id": "572479c6-d88c-4d44-b44c-2700eb006ac6",
   "metadata": {},
   "outputs": [
    {
     "name": "stdout",
     "output_type": "stream",
     "text": [
      "popualtion :  [array([0, 0, 0, 1, 1, 0, 0, 0, 0, 0, 0, 0, 0, 1, 0, 1]), array([0, 0, 1, 0, 0, 0, 1, 0, 0, 0, 1, 1, 0, 0, 0, 0]), array([1, 0, 0, 0, 0, 0, 1, 0, 0, 0, 1, 0, 0, 0, 0, 1]), array([0, 0, 1, 0, 1, 0, 0, 1, 0, 0, 0, 0, 0, 0, 0, 0])]\n",
      "individual :  [0 0 0 1 1 0 0 0 0 0 0 0 0 1 0 1]\n",
      "individual :  [0 0 1 0 0 0 1 0 0 0 1 1 0 0 0 0]\n",
      "individual :  [1 0 0 0 0 0 1 0 0 0 1 0 0 0 0 1]\n",
      "individual :  [0 0 1 0 1 0 0 1 0 0 0 0 0 0 0 0]\n",
      "Sum fitness Value :  15\n",
      "0 [0 0 0 1 1 0 0 0 0 0 0 0 0 1 0 1]\n",
      "1 [0 0 1 0 0 0 1 0 0 0 1 1 0 0 0 0]\n",
      "2 [1 0 0 0 0 0 1 0 0 0 1 0 0 0 0 1]\n",
      "3 [0 0 1 0 1 0 0 1 0 0 0 0 0 0 0 0]\n"
     ]
    }
   ],
   "source": [
    "## main \n",
    "arr = np.zeros((4,4),dtype=int) \n",
    "pop = generate_papulation(arr)\n",
    "print(\"popualtion : \",pop)\n",
    "selection(pop)\n"
   ]
  },
  {
   "cell_type": "code",
   "execution_count": null,
   "id": "4dd200a6-3727-44ab-bbb2-8e8e1b5bdaef",
   "metadata": {},
   "outputs": [],
   "source": []
  },
  {
   "cell_type": "code",
   "execution_count": null,
   "id": "540fa1d1-5726-457e-a7b6-ca0509a0a3c1",
   "metadata": {},
   "outputs": [],
   "source": []
  }
 ],
 "metadata": {
  "kernelspec": {
   "display_name": "Python 3",
   "language": "python",
   "name": "python3"
  },
  "language_info": {
   "codemirror_mode": {
    "name": "ipython",
    "version": 3
   },
   "file_extension": ".py",
   "mimetype": "text/x-python",
   "name": "python",
   "nbconvert_exporter": "python",
   "pygments_lexer": "ipython3",
   "version": "3.8.3"
  }
 },
 "nbformat": 4,
 "nbformat_minor": 5
}
