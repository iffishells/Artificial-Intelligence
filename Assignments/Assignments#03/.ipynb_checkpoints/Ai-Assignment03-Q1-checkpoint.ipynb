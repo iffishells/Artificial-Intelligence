{
 "cells": [
  {
   "cell_type": "code",
   "execution_count": 184,
   "id": "fa9d4df3",
   "metadata": {},
   "outputs": [],
   "source": [
    "# Xor function return binary from depend on the input\n",
    "def Xor(x1,x2):\n",
    "    \n",
    "    if x1==x2:\n",
    "        return 1\n",
    "    else:\n",
    "        return 0\n",
    "    "
   ]
  },
  {
   "cell_type": "code",
   "execution_count": 185,
   "id": "a7889679",
   "metadata": {},
   "outputs": [],
   "source": [
    "# Xor Trunth Table :\n",
    "# dictionary format sample\n",
    "# dict= {\n",
    "#     (x1,x2) :  [(\"Actual output\",),(\"Perceptron output\",)]\n",
    "# }\n",
    "\n",
    "perceptron= {\n",
    "    \n",
    "}\n",
    "\n",
    "# Truth table\n",
    "def XorTable(x1_vector,x2_vector):\n",
    "    \n",
    "    for i in range(len(x1_vector)):\n",
    "        \n",
    "#         print(Xor(x1_vector[i],x2_vector[i]))\n",
    "        perceptron[(x1_vector[i]),x2_vector[i]]=[(\"Actual output\",Xor(x1_vector[i],x2_vector[i]))]\n",
    "        \n",
    "    return perceptron"
   ]
  },
  {
   "cell_type": "code",
   "execution_count": 220,
   "id": "ef2863d5",
   "metadata": {},
   "outputs": [],
   "source": [
    "    \n",
    "# Equation = w_old + learning_Rate * (actual_ouput - perceptron_output) * x[i] \n",
    "    \n",
    "def Gradient_decent(old_weight_vector , actual_output,perceptron_output,x_values,  learning_rate ):\n",
    "    \n",
    "    \n",
    "#     print(\"Old Weight Vector : \",old_weight_vector )\n",
    "#     print(\"Actual output : \",actual_output)\n",
    "#     print(\"perceptron output : \",perceptron_output)\n",
    "#     print(\"X Values : \",x_values[0])\n",
    "#     print(\"Learning Rate : \",learning_rate)\n",
    "    \n",
    "    for i in range(len(x_values)):\n",
    "#         print(\"X values \" ,x_values[i])\n",
    "        actual_perceptron = actual_output - perceptron_output\n",
    "        actual_perceptron_into_xValues = actual_perceptron * x_values[i]\n",
    "        temp= old_weight_vector[i]+ learning_rate * actual_perceptron_into_xValues \n",
    "        old_weight_vector[i] = temp\n",
    "        \n",
    "    return old_weight_vector\n",
    "    \n",
    "    \n",
    "       \n",
    "        \n",
    "    \n",
    "    \n",
    "    \n",
    "    \n",
    "    "
   ]
  },
  {
   "cell_type": "code",
   "execution_count": 223,
   "id": "d6ba0b75",
   "metadata": {},
   "outputs": [
    {
     "name": "stdout",
     "output_type": "stream",
     "text": [
      "return Vector :  [-0.1, -0.1, -0.1]\n",
      "Random vector :  [0.0, 0.5, 0.2]\n"
     ]
    },
    {
     "data": {
      "text/plain": [
       "[-0.1, 0.4, 0.1]"
      ]
     },
     "execution_count": 223,
     "metadata": {},
     "output_type": "execute_result"
    }
   ],
   "source": [
    "import numpy as np\n",
    "np.random.seed(1293)\n",
    "import pprint as pp\n",
    "def main():\n",
    "    x0 = 1 # baise input\n",
    "    x1 = [0,0,1,1]\n",
    "    x2 = [0,1,0,1]\n",
    "    perceptron = XorTable(x1,x2)\n",
    "    \n",
    "    # weight vector randomly as W1 -> w1,w2,w3\n",
    "    w_i = [round(np.random.random() , 1),round(np.random.random() , 1),round(np.random.random() , 1)]\n",
    "#     print(\"Weight Vector : \",w_i)\n",
    "    \n",
    "    \n",
    "    for i in range(len(x1)):\n",
    "#         print((x1[i],x2[i]))\n",
    "#         \n",
    "#         print(\"Acuumulation :\",(x0*w_i[0])+(x1[i]*w_i[1])+(x2[i]*w_i[2]))\n",
    "        \n",
    "    \n",
    "        if (x0*w_i[0])+(x1[i]*w_i[1])+(x2[i]*w_i[2]) > 0:\n",
    "#             print(perceptron[(x1[i],x2[i])])\n",
    "            perceptron[(x1[i],x2[i])].append((\"Perception output\" ,1))\n",
    "        else:\n",
    "            perceptron[(x1[i],x2[i])].append((\"Perception output\" ,0))\n",
    "#             pp.pprint(\"P - >\",perceptron)\n",
    "            \n",
    "     \n",
    "#     W_delta = [0 , 0 , 0]  ## initilze with zero\n",
    "# #     print(\"Perceptron : \",perceptron)\n",
    "    \n",
    "#     x_values = [(1,0,0),(1,0,1),(1,1,0),(1,1,1)] \n",
    "    \n",
    "#     for i in range(4):\n",
    "        \n",
    "#         perceptron_output =  perceptron[(x1[i],x2[i])][1][1]\n",
    "#         actual_output = perceptron[(x1[i],x2[i])][0][1]\n",
    "        \n",
    "#         W_delta = Gradient_decent(W_delta ,actual_output,perceptron_output,x_values[i],learning_rate=0.1)\n",
    "# #         print(\"return vector  \",W_delta)\n",
    "    \n",
    "#     # update the weight vector with the old vector\n",
    "    \n",
    "#     print(\"return Vector : \",W_delta)\n",
    "#     print(\"Random vector : \",w_i)\n",
    "    \n",
    "#     return [W_delta[0]+w_i[0],W_delta[1]+w_i[1],W_delta[2]+w_i[2]]\n",
    "    \n",
    "        \n",
    "        \n",
    "    \n",
    "main()"
   ]
  },
  {
   "cell_type": "code",
   "execution_count": 224,
   "id": "bbb79f30",
   "metadata": {},
   "outputs": [
    {
     "ename": "NameError",
     "evalue": "name 'x0' is not defined",
     "output_type": "error",
     "traceback": [
      "\u001b[0;31m---------------------------------------------------------------------------\u001b[0m",
      "\u001b[0;31mNameError\u001b[0m                                 Traceback (most recent call last)",
      "\u001b[0;32m<ipython-input-224-7bf90f00eb3d>\u001b[0m in \u001b[0;36m<module>\u001b[0;34m\u001b[0m\n\u001b[1;32m      6\u001b[0m \u001b[0;34m\u001b[0m\u001b[0m\n\u001b[1;32m      7\u001b[0m \u001b[0;34m\u001b[0m\u001b[0m\n\u001b[0;32m----> 8\u001b[0;31m         \u001b[0;32mif\u001b[0m \u001b[0;34m(\u001b[0m\u001b[0mx0\u001b[0m\u001b[0;34m*\u001b[0m\u001b[0mw_i\u001b[0m\u001b[0;34m[\u001b[0m\u001b[0;36m0\u001b[0m\u001b[0;34m]\u001b[0m\u001b[0;34m)\u001b[0m\u001b[0;34m+\u001b[0m\u001b[0;34m(\u001b[0m\u001b[0mx1\u001b[0m\u001b[0;34m[\u001b[0m\u001b[0mi\u001b[0m\u001b[0;34m]\u001b[0m\u001b[0;34m*\u001b[0m\u001b[0mw_i\u001b[0m\u001b[0;34m[\u001b[0m\u001b[0;36m1\u001b[0m\u001b[0;34m]\u001b[0m\u001b[0;34m)\u001b[0m\u001b[0;34m+\u001b[0m\u001b[0;34m(\u001b[0m\u001b[0mx2\u001b[0m\u001b[0;34m[\u001b[0m\u001b[0mi\u001b[0m\u001b[0;34m]\u001b[0m\u001b[0;34m*\u001b[0m\u001b[0mw_i\u001b[0m\u001b[0;34m[\u001b[0m\u001b[0;36m2\u001b[0m\u001b[0;34m]\u001b[0m\u001b[0;34m)\u001b[0m \u001b[0;34m>\u001b[0m \u001b[0;36m0\u001b[0m\u001b[0;34m:\u001b[0m\u001b[0;34m\u001b[0m\u001b[0;34m\u001b[0m\u001b[0m\n\u001b[0m\u001b[1;32m      9\u001b[0m \u001b[0;31m#             print(perceptron[(x1[i],x2[i])])\u001b[0m\u001b[0;34m\u001b[0m\u001b[0;34m\u001b[0m\u001b[0;34m\u001b[0m\u001b[0m\n\u001b[1;32m     10\u001b[0m             \u001b[0mperceptron\u001b[0m\u001b[0;34m[\u001b[0m\u001b[0;34m(\u001b[0m\u001b[0mx1\u001b[0m\u001b[0;34m[\u001b[0m\u001b[0mi\u001b[0m\u001b[0;34m]\u001b[0m\u001b[0;34m,\u001b[0m\u001b[0mx2\u001b[0m\u001b[0;34m[\u001b[0m\u001b[0mi\u001b[0m\u001b[0;34m]\u001b[0m\u001b[0;34m)\u001b[0m\u001b[0;34m]\u001b[0m\u001b[0;34m.\u001b[0m\u001b[0mappend\u001b[0m\u001b[0;34m(\u001b[0m\u001b[0;34m(\u001b[0m\u001b[0;34m\"Perception output\"\u001b[0m \u001b[0;34m,\u001b[0m\u001b[0;36m1\u001b[0m\u001b[0;34m)\u001b[0m\u001b[0;34m)\u001b[0m\u001b[0;34m\u001b[0m\u001b[0;34m\u001b[0m\u001b[0m\n",
      "\u001b[0;31mNameError\u001b[0m: name 'x0' is not defined"
     ]
    }
   ],
   "source": [
    "for i in range(len(x1)):\n",
    "#         print((x1[i],x2[i]))\n",
    "#         \n",
    "        w_i = [-0.1, 0.4, 0.1]\n",
    "#         print(\"Acuumulation :\",(x0*w_i[0])+(x1[i]*w_i[1])+(x2[i]*w_i[2]))\n",
    "        \n",
    "    \n",
    "        if (x0*w_i[0])+(x1[i]*w_i[1])+(x2[i]*w_i[2]) > 0:\n",
    "#             print(perceptron[(x1[i],x2[i])])\n",
    "            perceptron[(x1[i],x2[i])].append((\"Perception output\" ,1))\n",
    "        else:\n",
    "            perceptron[(x1[i],x2[i])].append((\"Perception output\" ,0))\n",
    "#             pp.pprint(\"P - >\",perceptron)"
   ]
  },
  {
   "cell_type": "code",
   "execution_count": null,
   "id": "0ba947e4",
   "metadata": {},
   "outputs": [],
   "source": []
  },
  {
   "cell_type": "code",
   "execution_count": null,
   "id": "3955378f",
   "metadata": {},
   "outputs": [],
   "source": []
  },
  {
   "cell_type": "code",
   "execution_count": null,
   "id": "75c6aa17",
   "metadata": {},
   "outputs": [],
   "source": []
  }
 ],
 "metadata": {
  "kernelspec": {
   "display_name": "Python 3",
   "language": "python",
   "name": "python3"
  },
  "language_info": {
   "codemirror_mode": {
    "name": "ipython",
    "version": 3
   },
   "file_extension": ".py",
   "mimetype": "text/x-python",
   "name": "python",
   "nbconvert_exporter": "python",
   "pygments_lexer": "ipython3",
   "version": "3.8.3"
  }
 },
 "nbformat": 4,
 "nbformat_minor": 5
}
