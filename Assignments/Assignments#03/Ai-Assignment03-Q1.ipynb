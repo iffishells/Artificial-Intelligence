{
 "cells": [
  {
   "cell_type": "code",
   "execution_count": 184,
   "id": "9b547811",
   "metadata": {},
   "outputs": [],
   "source": [
    "# Xor function return binary from depend on the input\n",
    "def Xor(x1,x2):\n",
    "    \n",
    "    if x1==x2:\n",
    "        return 1\n",
    "    else:\n",
    "        return 0\n",
    "    "
   ]
  },
  {
   "cell_type": "code",
   "execution_count": 185,
   "id": "3a75630e",
   "metadata": {},
   "outputs": [],
   "source": [
    "# Xor Trunth Table :\n",
    "# dictionary format sample\n",
    "# dict= {\n",
    "#     (x1,x2) :  [(\"Actual output\",),(\"Perceptron output\",)]\n",
    "# }\n",
    "\n",
    "perceptron= {\n",
    "    \n",
    "}\n",
    "\n",
    "# Truth table\n",
    "def XorTable(x1_vector,x2_vector):\n",
    "    \n",
    "    for i in range(len(x1_vector)):\n",
    "        \n",
    "#         print(Xor(x1_vector[i],x2_vector[i]))\n",
    "        perceptron[(x1_vector[i]),x2_vector[i]]=[(\"Actual output\",Xor(x1_vector[i],x2_vector[i]))]\n",
    "        \n",
    "    return perceptron"
   ]
  },
  {
   "cell_type": "code",
   "execution_count": 220,
   "id": "821e73f3",
   "metadata": {},
   "outputs": [],
   "source": [
    "    \n",
    "# Equation = w_old + learning_Rate * (actual_ouput - perceptron_output) * x[i] \n",
    "    \n",
    "def Gradient_decent(old_weight_vector , actual_output,perceptron_output,x_values,  learning_rate ):\n",
    "    \n",
    "    \n",
    "#     print(\"Old Weight Vector : \",old_weight_vector )\n",
    "#     print(\"Actual output : \",actual_output)\n",
    "#     print(\"perceptron output : \",perceptron_output)\n",
    "#     print(\"X Values : \",x_values[0])\n",
    "#     print(\"Learning Rate : \",learning_rate)\n",
    "    \n",
    "    for i in range(len(x_values)):\n",
    "#         print(\"X values \" ,x_values[i])\n",
    "        actual_perceptron = actual_output - perceptron_output\n",
    "        actual_perceptron_into_xValues = actual_perceptron * x_values[i]\n",
    "        temp= old_weight_vector[i]+ learning_rate * actual_perceptron_into_xValues \n",
    "        old_weight_vector[i] = temp\n",
    "        \n",
    "    return old_weight_vector\n",
    "    \n",
    "    \n",
    "       \n",
    "        \n",
    "    \n",
    "    \n",
    "    \n",
    "    \n",
    "    "
   ]
  },
  {
   "cell_type": "code",
   "execution_count": 228,
   "id": "0318c03d",
   "metadata": {},
   "outputs": [
    {
     "name": "stdout",
     "output_type": "stream",
     "text": [
      "return Vector :  [-0.1, -0.1, -0.1]\n",
      "Random vector :  [0.0, 0.5, 0.2]\n"
     ]
    },
    {
     "data": {
      "text/plain": [
       "[-0.1, 0.4, 0.1]"
      ]
     },
     "execution_count": 228,
     "metadata": {},
     "output_type": "execute_result"
    }
   ],
   "source": [
    "import numpy as np\n",
    "np.random.seed(1293)\n",
    "import pprint as pp\n",
    "def main():\n",
    "    x0 = 1 # baise input\n",
    "    x1 = [0,0,1,1]\n",
    "    x2 = [0,1,0,1]\n",
    "    perceptron = XorTable(x1,x2)\n",
    "    \n",
    "    # weight vector randomly as W1 -> w1,w2,w3\n",
    "    w_i = [round(np.random.random() , 1),round(np.random.random() , 1),round(np.random.random() , 1)]\n",
    "#     print(\"Weight Vector : \",w_i)\n",
    "    \n",
    "    \n",
    "    for i in range(len(x1)):\n",
    "#         print((x1[i],x2[i]))\n",
    "#         \n",
    "#         print(\"Acuumulation :\",(x0*w_i[0])+(x1[i]*w_i[1])+(x2[i]*w_i[2]))\n",
    "        \n",
    "    \n",
    "        if (x0*w_i[0])+(x1[i]*w_i[1])+(x2[i]*w_i[2]) > 0:\n",
    "#             print(perceptron[(x1[i],x2[i])])\n",
    "            perceptron[(x1[i],x2[i])].append((\"Perception output\" ,1))\n",
    "        else:\n",
    "            perceptron[(x1[i],x2[i])].append((\"Perception output\" ,0))\n",
    "#             pp.pprint(\"P - >\",perceptron)\n",
    "            \n",
    "     \n",
    "    W_delta = [0 , 0 , 0]  ## initilze with zero\n",
    "#     print(\"Perceptron : \",perceptron)\n",
    "    \n",
    "    x_values = [(1,0,0),(1,0,1),(1,1,0),(1,1,1)] \n",
    "    \n",
    "    for i in range(4):\n",
    "        \n",
    "        perceptron_output =  perceptron[(x1[i],x2[i])][1][1]\n",
    "        actual_output = perceptron[(x1[i],x2[i])][0][1]\n",
    "        \n",
    "        W_delta = Gradient_decent(W_delta ,actual_output,perceptron_output,x_values[i],learning_rate=0.1)\n",
    "#         print(\"return vector  \",W_delta)\n",
    "    \n",
    "    # update the weight vector with the old vector\n",
    "    \n",
    "    print(\"return Vector : \",W_delta)\n",
    "    print(\"Random vector : \",w_i)\n",
    "    \n",
    "#     vector  = old_Vector[i] + random_Vector[i]\n",
    "    return [W_delta[0]+w_i[0],W_delta[1]+w_i[1],W_delta[2]+w_i[2]]\n",
    "    \n",
    "        \n",
    "        \n",
    "    \n",
    "main()"
   ]
  },
  {
   "cell_type": "code",
   "execution_count": null,
   "id": "121186f3",
   "metadata": {},
   "outputs": [],
   "source": []
  },
  {
   "cell_type": "code",
   "execution_count": null,
   "id": "6352c680",
   "metadata": {},
   "outputs": [],
   "source": []
  },
  {
   "cell_type": "code",
   "execution_count": null,
   "id": "9a8eb048",
   "metadata": {},
   "outputs": [],
   "source": []
  },
  {
   "cell_type": "code",
   "execution_count": null,
   "id": "4c6e8473",
   "metadata": {},
   "outputs": [],
   "source": []
  }
 ],
 "metadata": {
  "kernelspec": {
   "display_name": "Python 3",
   "language": "python",
   "name": "python3"
  },
  "language_info": {
   "codemirror_mode": {
    "name": "ipython",
    "version": 3
   },
   "file_extension": ".py",
   "mimetype": "text/x-python",
   "name": "python",
   "nbconvert_exporter": "python",
   "pygments_lexer": "ipython3",
   "version": "3.8.3"
  }
 },
 "nbformat": 4,
 "nbformat_minor": 5
}
